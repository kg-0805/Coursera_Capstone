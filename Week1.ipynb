{
  "nbformat": 4,
  "nbformat_minor": 0,
  "metadata": {
    "colab": {
      "name": "Untitled0.ipynb",
      "provenance": [],
      "authorship_tag": "ABX9TyNF/cskhRmKDs1o79aM3FaJ",
      "include_colab_link": true
    },
    "kernelspec": {
      "name": "python3",
      "display_name": "Python 3"
    }
  },
  "cells": [
    {
      "cell_type": "markdown",
      "metadata": {
        "id": "view-in-github",
        "colab_type": "text"
      },
      "source": [
        "<a href=\"https://colab.research.google.com/github/kg-0805/Coursera_Capstone/blob/master/Week1.ipynb\" target=\"_parent\"><img src=\"https://colab.research.google.com/assets/colab-badge.svg\" alt=\"Open In Colab\"/></a>"
      ]
    },
    {
      "cell_type": "markdown",
      "metadata": {
        "id": "P6bXxCwZStzv",
        "colab_type": "text"
      },
      "source": [
        "Notebook for Capstone"
      ]
    },
    {
      "cell_type": "code",
      "metadata": {
        "id": "tj0dErozSmHQ",
        "colab_type": "code",
        "colab": {}
      },
      "source": [
        "import pandas as pd"
      ],
      "execution_count": 1,
      "outputs": []
    },
    {
      "cell_type": "code",
      "metadata": {
        "id": "MrSQVv_vS3DO",
        "colab_type": "code",
        "colab": {}
      },
      "source": [
        "import numpy as np\n"
      ],
      "execution_count": 2,
      "outputs": []
    },
    {
      "cell_type": "code",
      "metadata": {
        "id": "icizAKsGS6EJ",
        "colab_type": "code",
        "colab": {
          "base_uri": "https://localhost:8080/",
          "height": 34
        },
        "outputId": "96dced4f-c84b-4eb1-cedf-c72624129150"
      },
      "source": [
        "print (\"Hello Capstone Project Course!\")"
      ],
      "execution_count": 4,
      "outputs": [
        {
          "output_type": "stream",
          "text": [
            "Hello Welcome to the Capstone Project Course!\n"
          ],
          "name": "stdout"
        }
      ]
    },
    {{
      "cell_type": "code",
      "metadata": {
        "id": "YXXZZPyAS8es",
        "colab_type": "code",
        "colab": {}
      }},
      "source": [
        ""
      ],
      "execution_count": null,
      "outputs": []
    }
  ]
}
